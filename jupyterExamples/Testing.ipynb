{
 "cells": [
  {
   "cell_type": "code",
   "execution_count": 229,
   "id": "golden-carol",
   "metadata": {},
   "outputs": [],
   "source": [
    "import pandas as pd\n",
    "import matplotlib.pyplot as plt\n",
    "import math"
   ]
  },
  {
   "cell_type": "code",
   "execution_count": 239,
   "id": "passive-algebra",
   "metadata": {},
   "outputs": [],
   "source": [
    "def read(input):\n",
    "    # df = pd.read_csv(input, parse_dates=True, infer_datetime_format=True)  # use if there's only one date/time column\n",
    "    try:\n",
    "        df = pd.read_csv(input, parse_dates={'Datetime': [0, 1]},\n",
    "                     infer_datetime_format=True)  # merges time and date columns\n",
    "    except:\n",
    "        df = pd.read_csv(input, names=[\"Datetime\"])\n",
    "    # print(df.head)\n",
    "    return df\n",
    "\n",
    "\n",
    "def denoise(ts: pd.DataFrame) -> None:\n",
    "    \"\"\"\n",
    "    Removes noise from a time series. Produces a time series with less noise than\n",
    "    the original one. This function can be implemented using moving (or rolling) media or median\n",
    "    (included in the Pandas library.)\n",
    "    \"\"\"\n",
    "    # Implementing 5 point moving average\n",
    "    ts[\"Datetime\"] = ts.rolling(window=5).mean()\n",
    "    \n",
    "def logarithm(ts):\n",
    "    \"\"\"\n",
    "    Produces a time series whose elements are the logarithm of the original\n",
    "    elements.\n",
    "    \"\"\"\n",
    "    ts[\"Datetime\"] = ts[\"Datetime\"].apply(lambda x: math.log(x, 10))"
   ]
  },
  {
   "cell_type": "code",
   "execution_count": 245,
   "id": "controlling-procedure",
   "metadata": {},
   "outputs": [
    {
     "data": {
      "text/html": [
       "<div>\n",
       "<style scoped>\n",
       "    .dataframe tbody tr th:only-of-type {\n",
       "        vertical-align: middle;\n",
       "    }\n",
       "\n",
       "    .dataframe tbody tr th {\n",
       "        vertical-align: top;\n",
       "    }\n",
       "\n",
       "    .dataframe thead th {\n",
       "        text-align: right;\n",
       "    }\n",
       "</style>\n",
       "<table border=\"1\" class=\"dataframe\">\n",
       "  <thead>\n",
       "    <tr style=\"text-align: right;\">\n",
       "      <th></th>\n",
       "      <th>Datetime</th>\n",
       "      <th>Station Pressure [mBar]</th>\n",
       "    </tr>\n",
       "  </thead>\n",
       "  <tbody>\n",
       "    <tr>\n",
       "      <th>0</th>\n",
       "      <td>2005-11-01 00:00:00</td>\n",
       "      <td>817.46</td>\n",
       "    </tr>\n",
       "    <tr>\n",
       "      <th>1</th>\n",
       "      <td>2005-11-01 00:01:00</td>\n",
       "      <td>817.41</td>\n",
       "    </tr>\n",
       "    <tr>\n",
       "      <th>2</th>\n",
       "      <td>2005-11-01 00:02:00</td>\n",
       "      <td>817.29</td>\n",
       "    </tr>\n",
       "    <tr>\n",
       "      <th>3</th>\n",
       "      <td>2005-11-01 00:03:00</td>\n",
       "      <td>817.17</td>\n",
       "    </tr>\n",
       "    <tr>\n",
       "      <th>4</th>\n",
       "      <td>2005-11-01 00:04:00</td>\n",
       "      <td>817.18</td>\n",
       "    </tr>\n",
       "    <tr>\n",
       "      <th>5</th>\n",
       "      <td>2005-11-01 00:05:00</td>\n",
       "      <td>817.30</td>\n",
       "    </tr>\n",
       "    <tr>\n",
       "      <th>6</th>\n",
       "      <td>2005-11-01 00:06:00</td>\n",
       "      <td>817.43</td>\n",
       "    </tr>\n",
       "    <tr>\n",
       "      <th>7</th>\n",
       "      <td>2005-11-01 00:07:00</td>\n",
       "      <td>817.40</td>\n",
       "    </tr>\n",
       "    <tr>\n",
       "      <th>8</th>\n",
       "      <td>2005-11-01 00:08:00</td>\n",
       "      <td>817.34</td>\n",
       "    </tr>\n",
       "    <tr>\n",
       "      <th>9</th>\n",
       "      <td>2005-11-01 00:09:00</td>\n",
       "      <td>817.30</td>\n",
       "    </tr>\n",
       "  </tbody>\n",
       "</table>\n",
       "</div>"
      ],
      "text/plain": [
       "             Datetime  Station Pressure [mBar]\n",
       "0 2005-11-01 00:00:00                   817.46\n",
       "1 2005-11-01 00:01:00                   817.41\n",
       "2 2005-11-01 00:02:00                   817.29\n",
       "3 2005-11-01 00:03:00                   817.17\n",
       "4 2005-11-01 00:04:00                   817.18\n",
       "5 2005-11-01 00:05:00                   817.30\n",
       "6 2005-11-01 00:06:00                   817.43\n",
       "7 2005-11-01 00:07:00                   817.40\n",
       "8 2005-11-01 00:08:00                   817.34\n",
       "9 2005-11-01 00:09:00                   817.30"
      ]
     },
     "execution_count": 245,
     "metadata": {},
     "output_type": "execute_result"
    }
   ],
   "source": [
    "df = read(\"../timeSeriesData/1_temperature_train.csv\")\n",
    "df2 = read(\"../timeSeriesData2/AtmPres2005NovMin.csv\")\n",
    "df2.head(10)\n",
    "#df.plot(linewidth=2)"
   ]
  },
  {
   "cell_type": "code",
   "execution_count": 246,
   "id": "convertible-regular",
   "metadata": {},
   "outputs": [
    {
     "data": {
      "text/html": [
       "<div>\n",
       "<style scoped>\n",
       "    .dataframe tbody tr th:only-of-type {\n",
       "        vertical-align: middle;\n",
       "    }\n",
       "\n",
       "    .dataframe tbody tr th {\n",
       "        vertical-align: top;\n",
       "    }\n",
       "\n",
       "    .dataframe thead th {\n",
       "        text-align: right;\n",
       "    }\n",
       "</style>\n",
       "<table border=\"1\" class=\"dataframe\">\n",
       "  <thead>\n",
       "    <tr style=\"text-align: right;\">\n",
       "      <th></th>\n",
       "      <th>Datetime</th>\n",
       "    </tr>\n",
       "  </thead>\n",
       "  <tbody>\n",
       "    <tr>\n",
       "      <th>0</th>\n",
       "      <td>1.269513</td>\n",
       "    </tr>\n",
       "    <tr>\n",
       "      <th>1</th>\n",
       "      <td>1.269513</td>\n",
       "    </tr>\n",
       "    <tr>\n",
       "      <th>2</th>\n",
       "      <td>1.276462</td>\n",
       "    </tr>\n",
       "    <tr>\n",
       "      <th>3</th>\n",
       "      <td>1.281033</td>\n",
       "    </tr>\n",
       "    <tr>\n",
       "      <th>4</th>\n",
       "      <td>1.292256</td>\n",
       "    </tr>\n",
       "    <tr>\n",
       "      <th>5</th>\n",
       "      <td>1.298853</td>\n",
       "    </tr>\n",
       "    <tr>\n",
       "      <th>6</th>\n",
       "      <td>1.307496</td>\n",
       "    </tr>\n",
       "    <tr>\n",
       "      <th>7</th>\n",
       "      <td>1.315970</td>\n",
       "    </tr>\n",
       "    <tr>\n",
       "      <th>8</th>\n",
       "      <td>1.324282</td>\n",
       "    </tr>\n",
       "    <tr>\n",
       "      <th>9</th>\n",
       "      <td>1.328380</td>\n",
       "    </tr>\n",
       "  </tbody>\n",
       "</table>\n",
       "</div>"
      ],
      "text/plain": [
       "   Datetime\n",
       "0  1.269513\n",
       "1  1.269513\n",
       "2  1.276462\n",
       "3  1.281033\n",
       "4  1.292256\n",
       "5  1.298853\n",
       "6  1.307496\n",
       "7  1.315970\n",
       "8  1.324282\n",
       "9  1.328380"
      ]
     },
     "execution_count": 246,
     "metadata": {},
     "output_type": "execute_result"
    }
   ],
   "source": [
    "logarithm(df)\n",
    "df.head(10)\n",
    "#df.plot(linewidth=2)"
   ]
  },
  {
   "cell_type": "code",
   "execution_count": 247,
   "id": "bridal-richmond",
   "metadata": {
    "jupyter": {
     "source_hidden": true
    }
   },
   "outputs": [
    {
     "data": {
      "text/plain": [
       "<AxesSubplot:>"
      ]
     },
     "execution_count": 247,
     "metadata": {},
     "output_type": "execute_result"
    },
    {
     "data": {
      "image/png": "[encoded data removed]",
      "text/plain": [
       "<Figure size 432x288 with 1 Axes>"
      ]
     },
     "metadata": {
      "needs_background": "light"
     },
     "output_type": "display_data"
    }
   ],
   "source": [
    "denoise(df)\n",
    "#df.head(10)\n",
    "df.plot(linewidth=2)"
   ]
  },
  {
   "cell_type": "code",
   "execution_count": null,
   "id": "olympic-necklace",
   "metadata": {},
   "outputs": [],
   "source": []
  },
  {
   "cell_type": "code",
   "execution_count": null,
   "id": "quiet-average",
   "metadata": {},
   "outputs": [],
   "source": []
  }
 ],
 "metadata": {
  "kernelspec": {
   "display_name": "Python 3",
   "language": "python",
   "name": "python3"
  },
  "language_info": {
   "codemirror_mode": {
    "name": "ipython",
    "version": 3
   },
   "file_extension": ".py",
   "mimetype": "text/x-python",
   "name": "python",
   "nbconvert_exporter": "python",
   "pygments_lexer": "ipython3",
   "version": "3.7.9"
  }
 },
 "nbformat": 4,
 "nbformat_minor": 5
}
