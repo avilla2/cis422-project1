{
 "cells": [
  {
   "cell_type": "code",
   "execution_count": 1,
   "metadata": {},
   "outputs": [
    {
     "name": "stdout",
     "output_type": "stream",
     "text": [
      "testing create tree and add operators\n",
      "==================================================\n",
      "Node('/1', data=None)\n",
      "├── Node('/1/2', operator='denois')\n",
      "│   └── Node('/1/2/3', operator='standardize')\n",
      "│       └── Node('/1/2/3/4', operator='cubic_root')\n",
      "└── Node('/1/5', operator='cubic_root')\n",
      "\n",
      "\n",
      "testing replacing operators\n",
      "==================================================\n",
      "Node('/1', data=None)\n",
      "├── Node('/1/2', operator='denois')\n",
      "│   └── Node('/1/2/3', operator='logarithm')\n",
      "│       └── Node('/1/2/3/4', operator='cubic_root')\n",
      "└── Node('/1/5', operator='cubic_root')\n"
     ]
    }
   ],
   "source": [
    "from transformation import *\n",
    "\n",
    "print(\"testing create tree and add operators\")\n",
    "print(\"=\" * 50)\n",
    "test = tf_tree()\n",
    "address = '/Users/hyojaeshin/Desktop/CIS422/Project1/cis422-project1/timeSeriesData/8_distribution_subsampled_test.csv'\n",
    "test.create_tree(address)\n",
    "test.add_operator(1, \"denois\")\n",
    "test.add_operator(2, \"standardize\")\n",
    "test.add_operator(3, \"cubic_root\")\n",
    "test.add_operator(1, \"cubic_root\")\n",
    "test.print_tree(test.root)\n",
    "\n",
    "print(\"\\n\\ntesting replacing operators\")\n",
    "print(\"=\" * 50)\n",
    "test.replace_process(3, 'logarithm')\n",
    "test.print_tree(test.root)"
   ]
  },
  {
   "cell_type": "code",
   "execution_count": 2,
   "metadata": {},
   "outputs": [
    {
     "name": "stdout",
     "output_type": "stream",
     "text": [
      "\n",
      "\n",
      "testing subtree handling\n",
      "==================================================\n",
      "Node('/1', data=None)\n",
      "├── Node('/1/2', operator='denois')\n",
      "│   └── Node('/1/2/3', operator='logarithm')\n",
      "│       └── Node('/1/2/3/4', operator='cubic_root')\n",
      "└── Node('/1/5', operator='cubic_root')\n",
      "    └── Node('/1/5/6', operator='logarithm')\n",
      "        └── Node('/1/5/6/7', operator='cubic_root')\n"
     ]
    }
   ],
   "source": [
    "print(\"\\n\\ntesting subtree handling\")\n",
    "print(\"=\" * 50)\n",
    "\n",
    "subt = test.replicate_subtree(3)\n",
    "test.add_subtree(subt, 5)\n",
    "test.print_tree(test.root)\n"
   ]
  },
  {
   "cell_type": "code",
   "execution_count": 3,
   "metadata": {},
   "outputs": [
    {
     "name": "stdout",
     "output_type": "stream",
     "text": [
      "\n",
      "\n",
      "testing tree path handling\n",
      "==================================================\n",
      "(Node('/8', data=None), Node('/8/9', operator='cubic_root'), Node('/8/9/10', operator='logarithm'), Node('/8/9/10/11', operator='cubic_root'))\n",
      "Node('/1', data=None)\n",
      "├── Node('/1/2', operator='denois')\n",
      "│   └── Node('/1/2/3', operator='logarithm')\n",
      "│       └── Node('/1/2/3/4', operator='cubic_root')\n",
      "├── Node('/1/5', operator='cubic_root')\n",
      "│   └── Node('/1/5/6', operator='logarithm')\n",
      "│       └── Node('/1/5/6/7', operator='cubic_root')\n",
      "└── Node('/1/8', data=None)\n",
      "    ├── Node('/1/8/2', operator='denois')\n",
      "    │   └── Node('/1/8/2/3', operator='logarithm')\n",
      "    │       └── Node('/1/8/2/3/4', operator='cubic_root')\n",
      "    └── Node('/1/8/9', operator='cubic_root')\n",
      "        └── Node('/1/8/9/10', operator='logarithm')\n",
      "            └── Node('/1/8/9/10/11', operator='cubic_root')\n"
     ]
    }
   ],
   "source": [
    "print(\"\\n\\ntesting tree path handling\")\n",
    "print(\"=\" * 50)\n",
    "\n",
    "patht = test.replicate_tree_path(7)\n",
    "print(patht)\n",
    "\n",
    "test.add_subtree(patht[0], 1)\n",
    "test.print_tree(test.root)"
   ]
  },
  {
   "cell_type": "code",
   "execution_count": 4,
   "metadata": {},
   "outputs": [
    {
     "name": "stdout",
     "output_type": "stream",
     "text": [
      "\n",
      "\n",
      "Checking leaves\n",
      "==================================================\n",
      "(Node('/1/2/3/4', operator='cubic_root'), Node('/1/5/6/7', operator='cubic_root'), Node('/1/8/2/3/4', operator='cubic_root'), Node('/1/8/9/10/11', operator='cubic_root'))\n",
      "\n",
      "\n",
      "Checking leaf\n",
      "==================================================\n",
      "(Node('/1', data=None), Node('/1/8', data=None), Node('/1/8/9', operator='cubic_root'), Node('/1/8/9/10', operator='logarithm'), Node('/1/8/9/10/11', operator='cubic_root'))\n"
     ]
    }
   ],
   "source": [
    "print(\"\\n\\nChecking leaves\")\n",
    "print(\"=\" * 50)\n",
    "print(test.get_ready_tree())\n",
    "\n",
    "\n",
    "print(\"\\n\\nChecking leaf\")\n",
    "print(\"=\" * 50)\n",
    "\n",
    "print(test.get_ready_pipeline(11))"
   ]
  },
  {
   "cell_type": "code",
   "execution_count": null,
   "metadata": {},
   "outputs": [],
   "source": []
  }
 ],
 "metadata": {
  "kernelspec": {
   "display_name": "Python 3",
   "language": "python",
   "name": "python3"
  },
  "language_info": {
   "codemirror_mode": {
    "name": "ipython",
    "version": 3
   },
   "file_extension": ".py",
   "mimetype": "text/x-python",
   "name": "python",
   "nbconvert_exporter": "python",
   "pygments_lexer": "ipython3",
   "version": "3.8.5"
  }
 },
 "nbformat": 4,
 "nbformat_minor": 4
}
