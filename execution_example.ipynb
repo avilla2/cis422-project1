{
 "cells": [
  {
   "cell_type": "code",
   "execution_count": 1,
   "metadata": {},
   "outputs": [
    {
     "name": "stdout",
     "output_type": "stream",
     "text": [
      "testing create tree and add operators\n",
      "==================================================\n",
      "Node('/1', data=     3011.09\n",
      "0    2863.64\n",
      "1    2890.41\n",
      "2    2505.87\n",
      "3    2595.85\n",
      "4    2472.14\n",
      "..       ...\n",
      "162  3394.81\n",
      "163  3429.82\n",
      "164  3408.10\n",
      "165  2839.54\n",
      "166  2751.37\n",
      "\n",
      "[167 rows x 1 columns])\n",
      "└── Node('/1/2', operator='logarithm')\n"
     ]
    }
   ],
   "source": [
    "from transformation import *\n",
    "\n",
    "print(\"testing create tree and add operators\")\n",
    "print(\"=\" * 50)\n",
    "test = tf_tree()\n",
    "address = '/Users/hyojaeshin/Desktop/CIS422/Project1/cis422-project1/timeSeriesData/8_distribution_subsampled_test.csv'\n",
    "test.create_tree(address)\n",
    "test.add_operator(1, \"logarithm\")\n",
    "test.print_tree(test.root)"
   ]
  },
  {
   "cell_type": "code",
   "execution_count": 2,
   "metadata": {},
   "outputs": [
    {
     "name": "stdout",
     "output_type": "stream",
     "text": [
      "\n",
      "\n",
      "Checking leaves\n",
      "==================================================\n",
      "(Node('/1/2', operator='logarithm'),)\n",
      "logarithm  is operator \n",
      "\n",
      "     3011.09\n",
      "0    2863.64\n",
      "1    2890.41\n",
      "2    2505.87\n",
      "3    2595.85\n",
      "4    2472.14\n",
      "..       ...\n",
      "162  3394.81\n",
      "163  3429.82\n",
      "164  3408.10\n",
      "165  2839.54\n",
      "166  2751.37\n",
      "\n",
      "[167 rows x 1 columns]  is data \n",
      "\n",
      "     3011.09      Data\n",
      "0    2863.64       NaN\n",
      "1    2890.41       NaN\n",
      "2    2505.87       NaN\n",
      "3    2595.85       NaN\n",
      "4    2472.14  3.425792\n",
      "..       ...       ...\n",
      "162  3394.81  3.528443\n",
      "163  3429.82  3.535509\n",
      "164  3408.10  3.529041\n",
      "165  2839.54  3.517059\n",
      "166  2751.37  3.500336\n",
      "\n",
      "[167 rows x 2 columns] \n",
      " it's working \n",
      "\n",
      "     3011.09      Data\n",
      "0    2863.64       NaN\n",
      "1    2890.41       NaN\n",
      "2    2505.87       NaN\n",
      "3    2595.85       NaN\n",
      "4    2472.14  3.425792\n",
      "..       ...       ...\n",
      "162  3394.81  3.528443\n",
      "163  3429.82  3.535509\n",
      "164  3408.10  3.529041\n",
      "165  2839.54  3.517059\n",
      "166  2751.37  3.500336\n",
      "\n",
      "[167 rows x 2 columns]\n"
     ]
    }
   ],
   "source": [
    "print(\"\\n\\nChecking leaves\")\n",
    "print(\"=\" * 50)\n",
    "print(test.get_ready_tree())\n",
    "print(test.exec_tree())"
   ]
  },
  {
   "cell_type": "code",
   "execution_count": null,
   "metadata": {},
   "outputs": [],
   "source": []
  }
 ],
 "metadata": {
  "kernelspec": {
   "display_name": "Python 3",
   "language": "python",
   "name": "python3"
  },
  "language_info": {
   "codemirror_mode": {
    "name": "ipython",
    "version": 3
   },
   "file_extension": ".py",
   "mimetype": "text/x-python",
   "name": "python",
   "nbconvert_exporter": "python",
   "pygments_lexer": "ipython3",
   "version": "3.8.5"
  }
 },
 "nbformat": 4,
 "nbformat_minor": 4
}
