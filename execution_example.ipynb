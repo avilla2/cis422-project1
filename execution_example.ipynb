{
 "cells": [
  {
   "cell_type": "code",
   "execution_count": 1,
   "metadata": {},
   "outputs": [
    {
     "name": "stdout",
     "output_type": "stream",
     "text": [
      "testing create tree and add operators\n",
      "==================================================\n",
      "Node('/1', data=                 Datetime  Station Pressure [mBar]\n",
      "0     2005-11-01 00:00:00                   817.46\n",
      "1     2005-11-01 00:01:00                   817.41\n",
      "2     2005-11-01 00:02:00                   817.29\n",
      "3     2005-11-01 00:03:00                   817.17\n",
      "4     2005-11-01 00:04:00                   817.18\n",
      "...                   ...                      ...\n",
      "44635 2005-12-01 23:55:00                   804.12\n",
      "44636 2005-12-01 23:56:00                   804.21\n",
      "44637 2005-12-01 23:57:00                   804.17\n",
      "44638 2005-12-01 23:58:00                   804.22\n",
      "44639 2005-12-01 23:59:00                   804.26\n",
      "\n",
      "[44640 rows x 2 columns])\n",
      "└── Node('/1/2', operator='logarithm')\n",
      "    └── Node('/1/2/3', operator='plot')\n",
      "Node('/1', data=                 Datetime  Station Pressure [mBar]\n",
      "0     2005-11-01 00:00:00                   817.46\n",
      "1     2005-11-01 00:01:00                   817.41\n",
      "2     2005-11-01 00:02:00                   817.29\n",
      "3     2005-11-01 00:03:00                   817.17\n",
      "4     2005-11-01 00:04:00                   817.18\n",
      "...                   ...                      ...\n",
      "44635 2005-12-01 23:55:00                   804.12\n",
      "44636 2005-12-01 23:56:00                   804.21\n",
      "44637 2005-12-01 23:57:00                   804.17\n",
      "44638 2005-12-01 23:58:00                   804.22\n",
      "44639 2005-12-01 23:59:00                   804.26\n",
      "\n",
      "[44640 rows x 2 columns])\n",
      "└── Node('/1/2', operator='logarithm')\n",
      "    └── Node('/1/2/3', operator='logarithm')\n",
      "        └── Node('/1/2/3/4', operator='split_models')\n",
      "            └── Node('/1/2/3/4/5', operator='create_train')\n",
      "                └── Node('/1/2/3/4/5/6', operator='forcast')\n",
      "                    └── Node('/1/2/3/4/5/6/7', operator='plot')\n",
      "Node('/1', data=                 Datetime  Station Pressure [mBar]\n",
      "0     2005-11-01 00:00:00                   817.46\n",
      "1     2005-11-01 00:01:00                   817.41\n",
      "2     2005-11-01 00:02:00                   817.29\n",
      "3     2005-11-01 00:03:00                   817.17\n",
      "4     2005-11-01 00:04:00                   817.18\n",
      "...                   ...                      ...\n",
      "44635 2005-12-01 23:55:00                   804.12\n",
      "44636 2005-12-01 23:56:00                   804.21\n",
      "44637 2005-12-01 23:57:00                   804.17\n",
      "44638 2005-12-01 23:58:00                   804.22\n",
      "44639 2005-12-01 23:59:00                   804.26\n",
      "\n",
      "[44640 rows x 2 columns])\n",
      "└── Node('/1/2', operator='logarithm')\n",
      "    └── Node('/1/2/3', operator='logarithm')\n",
      "        └── Node('/1/2/3/4', operator='split_models')\n",
      "            ├── Node('/1/2/3/4/5', operator='create_train')\n",
      "            │   └── Node('/1/2/3/4/5/6', operator='forcast')\n",
      "            │       └── Node('/1/2/3/4/5/6/7', operator='plot')\n",
      "            └── Node('/1/2/3/4/8', operator='create_train')\n",
      "                └── Node('/1/2/3/4/8/9', operator='forcast')\n",
      "                    └── Node('/1/2/3/4/8/9/10', operator='plot')\n",
      "Node('/1', data=                 Datetime  Station Pressure [mBar]\n",
      "0     2005-11-01 00:00:00                   817.46\n",
      "1     2005-11-01 00:01:00                   817.41\n",
      "2     2005-11-01 00:02:00                   817.29\n",
      "3     2005-11-01 00:03:00                   817.17\n",
      "4     2005-11-01 00:04:00                   817.18\n",
      "...                   ...                      ...\n",
      "44635 2005-12-01 23:55:00                   804.12\n",
      "44636 2005-12-01 23:56:00                   804.21\n",
      "44637 2005-12-01 23:57:00                   804.17\n",
      "44638 2005-12-01 23:58:00                   804.22\n",
      "44639 2005-12-01 23:59:00                   804.26\n",
      "\n",
      "[44640 rows x 2 columns])\n",
      "└── Node('/1/2', operator='logarithm')\n"
     ]
    }
   ],
   "source": [
    "from transformation import *\n",
    "\n",
    "print(\"testing create tree and add operators\")\n",
    "print(\"=\" * 50)\n",
    "test = tf_tree()\n",
    "address = '/Users/hyojaeshin/Desktop/CIS422/Project1/cis422-project1/timeSeriesData2/AtmPres2005NovMin.csv'\n",
    "test.create_tree(address)\n",
    "test.add_operator(1, \"logarithm\")\n",
    "test.add_operator(2, \"plot\")\n",
    "test.print_tree(test.root)\n",
    "\n",
    "test.replace_process(3, 'logarithm')\n",
    "test.add_operator(3, \"split_models\")\n",
    "test.add_operator(4, \"create_train\")\n",
    "test.add_operator(5, \"forcast\")\n",
    "test.add_operator(6, \"plot\")\n",
    "test.print_tree(test.root)\n",
    "\n",
    "stree = test.replicate_subtree(5)\n",
    "test.add_subtree(stree, 4)\n",
    "test.print_tree(test.root)\n",
    "\n",
    "test.remove_operator(3)\n",
    "test.print_tree(test.root)"
   ]
  },
  {
   "cell_type": "code",
   "execution_count": 2,
   "metadata": {},
   "outputs": [
    {
     "name": "stdout",
     "output_type": "stream",
     "text": [
      "Node('/1', data=                 Datetime  Station Pressure [mBar]\n",
      "0     2005-11-01 00:00:00                   817.46\n",
      "1     2005-11-01 00:01:00                   817.41\n",
      "2     2005-11-01 00:02:00                   817.29\n",
      "3     2005-11-01 00:03:00                   817.17\n",
      "4     2005-11-01 00:04:00                   817.18\n",
      "...                   ...                      ...\n",
      "44635 2005-12-01 23:55:00                   804.12\n",
      "44636 2005-12-01 23:56:00                   804.21\n",
      "44637 2005-12-01 23:57:00                   804.17\n",
      "44638 2005-12-01 23:58:00                   804.22\n",
      "44639 2005-12-01 23:59:00                   804.26\n",
      "\n",
      "[44640 rows x 2 columns])\n",
      "├── Node('/1/2', operator='logarithm')\n",
      "└── Node('/1/11', operator='split_models')\n",
      "    └── Node('/1/11/12', operator='create_train')\n",
      "        └── Node('/1/11/12/13', operator='forecast')\n",
      "            └── Node('/1/11/12/13/14', operator='plot')\n"
     ]
    }
   ],
   "source": [
    "test.add_operator(1, \"split_models\")\n",
    "test.add_operator(11, \"create_train\")\n",
    "test.add_operator(12, \"forecast\")\n",
    "test.add_operator(13, \"plot\")\n",
    "\n",
    "test.print_tree(test.root)"
   ]
  },
  {
   "cell_type": "code",
   "execution_count": 3,
   "metadata": {},
   "outputs": [
    {
     "name": "stdout",
     "output_type": "stream",
     "text": [
      "Node('/1', data=                 Datetime  Station Pressure [mBar]\n",
      "0     2005-11-01 00:00:00                   817.46\n",
      "1     2005-11-01 00:01:00                   817.41\n",
      "2     2005-11-01 00:02:00                   817.29\n",
      "3     2005-11-01 00:03:00                   817.17\n",
      "4     2005-11-01 00:04:00                   817.18\n",
      "...                   ...                      ...\n",
      "44635 2005-12-01 23:55:00                   804.12\n",
      "44636 2005-12-01 23:56:00                   804.21\n",
      "44637 2005-12-01 23:57:00                   804.17\n",
      "44638 2005-12-01 23:58:00                   804.22\n",
      "44639 2005-12-01 23:59:00                   804.26\n",
      "\n",
      "[44640 rows x 2 columns])\n",
      "├── Node('/1/2', operator='logarithm')\n",
      "│   └── Node('/1/2/15', operator='split_models')\n",
      "│       └── Node('/1/2/15/16', operator='create_train')\n",
      "│           └── Node('/1/2/15/16/17', operator='forecast')\n",
      "│               └── Node('/1/2/15/16/17/18', operator='plot')\n",
      "└── Node('/1/11', operator='split_models')\n",
      "    └── Node('/1/11/12', operator='create_train')\n",
      "        └── Node('/1/11/12/13', operator='forecast')\n",
      "            └── Node('/1/11/12/13/14', operator='plot')\n"
     ]
    }
   ],
   "source": [
    "sub = test.replicate_subtree(11)\n",
    "test.add_subtree(sub, 2)\n",
    "test.print_tree(test.root)"
   ]
  },
  {
   "cell_type": "code",
   "execution_count": null,
   "metadata": {},
   "outputs": [
    {
     "name": "stdout",
     "output_type": "stream",
     "text": [
      "operator :  logarithm\n",
      "data :                   Datetime  Station Pressure [mBar]\n",
      "0     2005-11-01 00:00:00                 2.912467\n",
      "1     2005-11-01 00:01:00                 2.912440\n",
      "2     2005-11-01 00:02:00                 2.912376\n",
      "3     2005-11-01 00:03:00                 2.912312\n",
      "4     2005-11-01 00:04:00                 2.912318\n",
      "...                   ...                      ...\n",
      "44635 2005-12-01 23:55:00                 2.905321\n",
      "44636 2005-12-01 23:56:00                 2.905369\n",
      "44637 2005-12-01 23:57:00                 2.905348\n",
      "44638 2005-12-01 23:58:00                 2.905375\n",
      "44639 2005-12-01 23:59:00                 2.905396\n",
      "\n",
      "[44640 rows x 2 columns]\n",
      "Training % : .5\n"
     ]
    }
   ],
   "source": [
    "test.exec_tree()"
   ]
  },
  {
   "cell_type": "code",
   "execution_count": null,
   "metadata": {},
   "outputs": [],
   "source": []
  }
 ],
 "metadata": {
  "kernelspec": {
   "display_name": "Python 3",
   "language": "python",
   "name": "python3"
  },
  "language_info": {
   "codemirror_mode": {
    "name": "ipython",
    "version": 3
   },
   "file_extension": ".py",
   "mimetype": "text/x-python",
   "name": "python",
   "nbconvert_exporter": "python",
   "pygments_lexer": "ipython3",
   "version": "3.8.5"
  }
 },
 "nbformat": 4,
 "nbformat_minor": 4
}
