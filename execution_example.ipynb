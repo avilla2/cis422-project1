{
 "cells": [
  {
   "cell_type": "code",
   "execution_count": 1,
   "metadata": {},
   "outputs": [
    {
     "name": "stdout",
     "output_type": "stream",
     "text": [
      "testing create tree and add operators\n",
      "==================================================\n",
      "Node('/1', data=                 Datetime  Station Pressure [mBar]\n",
      "0     2005-11-01 00:00:00                   817.46\n",
      "1     2005-11-01 00:01:00                   817.41\n",
      "2     2005-11-01 00:02:00                   817.29\n",
      "3     2005-11-01 00:03:00                   817.17\n",
      "4     2005-11-01 00:04:00                   817.18\n",
      "...                   ...                      ...\n",
      "44635 2005-12-01 23:55:00                   804.12\n",
      "44636 2005-12-01 23:56:00                   804.21\n",
      "44637 2005-12-01 23:57:00                   804.17\n",
      "44638 2005-12-01 23:58:00                   804.22\n",
      "44639 2005-12-01 23:59:00                   804.26\n",
      "\n",
      "[44640 rows x 2 columns])\n",
      "└── Node('/1/2', operator=<function denoise at 0x7f8bdb4781f0>)\n",
      "    └── Node('/1/2/3', operator=<function cubic_root at 0x7f8bdb478790>)\n",
      "        └── Node('/1/2/3/4', operator=<function plot at 0x7f8bdc62a0d0>)\n",
      "\n",
      "\n",
      "run tree\n",
      "==================================================\n",
      "None\n",
      "None\n"
     ]
    },
    {
     "data": {
      "image/png": "[encoded data removed]",
      "text/plain": [
       "<Figure size 432x288 with 1 Axes>"
      ]
     },
     "metadata": {
      "needs_background": "light"
     },
     "output_type": "display_data"
    },
    {
     "name": "stdout",
     "output_type": "stream",
     "text": [
      "None\n",
      "True\n"
     ]
    }
   ],
   "source": [
    "from transformation import *\n",
    "\n",
    "print(\"testing create tree and add operators\")\n",
    "print(\"=\" * 50)\n",
    "test = tf_tree()\n",
    "address = '/Users/hyojaeshin/Desktop/CIS422/Project1/cis422-project1/timeSeriesData2/AtmPres2005NovMin.csv'\n",
    "test.create_tree(address)\n",
    "test.add_operator(1, \"denoise\")\n",
    "test.add_operator(2, \"cubic_root\")\n",
    "test.add_operator(3, \"plot\")\n",
    "test.print_tree(test.root)\n",
    "\n",
    "print(\"\\n\\nrun tree\")\n",
    "print(\"=\" * 50)\n",
    "print(test.exec_tree())"
   ]
  },
  {
   "cell_type": "code",
   "execution_count": null,
   "metadata": {},
   "outputs": [],
   "source": []
  },
  {
   "cell_type": "code",
   "execution_count": null,
   "metadata": {},
   "outputs": [],
   "source": []
  }
 ],
 "metadata": {
  "kernelspec": {
   "display_name": "Python 3",
   "language": "python",
   "name": "python3"
  },
  "language_info": {
   "codemirror_mode": {
    "name": "ipython",
    "version": 3
   },
   "file_extension": ".py",
   "mimetype": "text/x-python",
   "name": "python",
   "nbconvert_exporter": "python",
   "pygments_lexer": "ipython3",
   "version": "3.8.5"
  }
 },
 "nbformat": 4,
 "nbformat_minor": 4
}
