{
 "cells": [
  {
   "cell_type": "code",
   "execution_count": 1,
   "metadata": {},
   "outputs": [
    {
     "name": "stdout",
     "output_type": "stream",
     "text": [
      "Node('/1', data=                 Datetime  Station Pressure [mBar]\n",
      "0     2005-11-01 00:00:00                   817.46\n",
      "1     2005-11-01 00:01:00                   817.41\n",
      "2     2005-11-01 00:02:00                   817.29\n",
      "3     2005-11-01 00:03:00                   817.17\n",
      "4     2005-11-01 00:04:00                   817.18\n",
      "...                   ...                      ...\n",
      "44635 2005-12-01 23:55:00                   804.12\n",
      "44636 2005-12-01 23:56:00                   804.21\n",
      "44637 2005-12-01 23:57:00                   804.17\n",
      "44638 2005-12-01 23:58:00                   804.22\n",
      "44639 2005-12-01 23:59:00                   804.26\n",
      "\n",
      "[44640 rows x 2 columns])\n",
      "└── Node('/1/2', operator='logarithm')\n",
      "Training % : .5\n",
      "Valid % : .3\n",
      "Test % : .2\n",
      "Enter Layers ly1, ly2, ly3 : 20 20 20\n",
      "Enter number of inputs (mi): 4\n",
      "Enter number of input spacing (ti): 2\n",
      "Enter number of outputs : (mo)1\n",
      "Enter number of output spacing (to): 1\n",
      "Enter number of forecasts : 3000\n",
      "Enter base for forecasts (Valid | Test): valid\n",
      "Node('/1', data=                 Datetime  Station Pressure [mBar]\n",
      "0     2005-11-01 00:00:00                   817.46\n",
      "1     2005-11-01 00:01:00                   817.41\n",
      "2     2005-11-01 00:02:00                   817.29\n",
      "3     2005-11-01 00:03:00                   817.17\n",
      "4     2005-11-01 00:04:00                   817.18\n",
      "...                   ...                      ...\n",
      "44635 2005-12-01 23:55:00                   804.12\n",
      "44636 2005-12-01 23:56:00                   804.21\n",
      "44637 2005-12-01 23:57:00                   804.17\n",
      "44638 2005-12-01 23:58:00                   804.22\n",
      "44639 2005-12-01 23:59:00                   804.26\n",
      "\n",
      "[44640 rows x 2 columns])\n",
      "└── Node('/1/2', operator='logarithm')\n",
      "    └── Node('/1/2/3', ly=[20, 20, 20], operator='split_models', tvt=[0.5, 0.3, 0.2])\n",
      "        └── Node('/1/2/3/4', mt=[4, 2, 1, 1], operator='create_train')\n",
      "            └── Node('/1/2/3/4/5', n=3000, operator='forecast', pick='valid')\n",
      "                └── Node('/1/2/3/4/5/6', operator='plot')\n"
     ]
    }
   ],
   "source": [
    "from transformation import *\n",
    "\n",
    "test = tf_tree()\n",
    "address = '/Users/hyojaeshin/Desktop/CIS422/Project1/cis422-project1/timeSeriesData2/AtmPres2005NovMin.csv'\n",
    "test.create_tree(address)\n",
    "test.add_operator(1, \"logarithm\")\n",
    "test.print_tree(test.root)\n",
    "test.add_operator(2, \"split_models\")\n",
    "test.add_operator(3, \"create_train\")\n",
    "test.add_operator(4, \"forecast\")\n",
    "test.add_operator(5, \"plot\")\n",
    "test.print_tree(test.root)"
   ]
  },
  {
   "cell_type": "code",
   "execution_count": 2,
   "metadata": {},
   "outputs": [
    {
     "name": "stdout",
     "output_type": "stream",
     "text": [
      "Node('/1', data=                 Datetime  Station Pressure [mBar]\n",
      "0     2005-11-01 00:00:00                   817.46\n",
      "1     2005-11-01 00:01:00                   817.41\n",
      "2     2005-11-01 00:02:00                   817.29\n",
      "3     2005-11-01 00:03:00                   817.17\n",
      "4     2005-11-01 00:04:00                   817.18\n",
      "...                   ...                      ...\n",
      "44635 2005-12-01 23:55:00                   804.12\n",
      "44636 2005-12-01 23:56:00                   804.21\n",
      "44637 2005-12-01 23:57:00                   804.17\n",
      "44638 2005-12-01 23:58:00                   804.22\n",
      "44639 2005-12-01 23:59:00                   804.26\n",
      "\n",
      "[44640 rows x 2 columns])\n",
      "└── Node('/1/2', operator='logarithm')\n",
      "    └── Node('/1/2/3', ly=[20, 20, 20], operator='split_models', tvt=[0.5, 0.3, 0.2])\n",
      "        └── Node('/1/2/3/4', mt=[4, 2, 1, 1], operator='create_train')\n",
      "            └── Node('/1/2/3/4/5', n=3000, operator='forecast', pick='valid')\n",
      "                └── Node('/1/2/3/4/5/6', operator='plot')\n",
      "Node('/1', data=                 Datetime  Station Pressure [mBar]\n",
      "0     2005-11-01 00:00:00                   817.46\n",
      "1     2005-11-01 00:01:00                   817.41\n",
      "2     2005-11-01 00:02:00                   817.29\n",
      "3     2005-11-01 00:03:00                   817.17\n",
      "4     2005-11-01 00:04:00                   817.18\n",
      "...                   ...                      ...\n",
      "44635 2005-12-01 23:55:00                   804.12\n",
      "44636 2005-12-01 23:56:00                   804.21\n",
      "44637 2005-12-01 23:57:00                   804.17\n",
      "44638 2005-12-01 23:58:00                   804.22\n",
      "44639 2005-12-01 23:59:00                   804.26\n",
      "\n",
      "[44640 rows x 2 columns])\n",
      "└── Node('/1/2', operator='denoise')\n",
      "    └── Node('/1/2/3', ly=[20, 20, 20], operator='split_models', tvt=[0.5, 0.3, 0.2])\n",
      "        └── Node('/1/2/3/4', mt=[4, 2, 1, 1], operator='create_train')\n",
      "            └── Node('/1/2/3/4/5', n=3000, operator='forecast', pick='valid')\n",
      "                └── Node('/1/2/3/4/5/6', operator='plot')\n"
     ]
    }
   ],
   "source": [
    "test.print_tree(test.root)\n",
    "test.replace_process(2, 'denoise')\n",
    "test.print_tree(test.root)"
   ]
  },
  {
   "cell_type": "code",
   "execution_count": 3,
   "metadata": {},
   "outputs": [
    {
     "name": "stdout",
     "output_type": "stream",
     "text": [
      "Node('/1', data=                 Datetime  Station Pressure [mBar]\n",
      "0     2005-11-01 00:00:00                   817.46\n",
      "1     2005-11-01 00:01:00                   817.41\n",
      "2     2005-11-01 00:02:00                   817.29\n",
      "3     2005-11-01 00:03:00                   817.17\n",
      "4     2005-11-01 00:04:00                   817.18\n",
      "...                   ...                      ...\n",
      "44635 2005-12-01 23:55:00                   804.12\n",
      "44636 2005-12-01 23:56:00                   804.21\n",
      "44637 2005-12-01 23:57:00                   804.17\n",
      "44638 2005-12-01 23:58:00                   804.22\n",
      "44639 2005-12-01 23:59:00                   804.26\n",
      "\n",
      "[44640 rows x 2 columns])\n",
      "├── Node('/1/2', operator='denoise')\n",
      "│   └── Node('/1/2/3', ly=[20, 20, 20], operator='split_models', tvt=[0.5, 0.3, 0.2])\n",
      "│       └── Node('/1/2/3/4', mt=[4, 2, 1, 1], operator='create_train')\n",
      "│           └── Node('/1/2/3/4/5', n=3000, operator='forecast', pick='valid')\n",
      "│               └── Node('/1/2/3/4/5/6', operator='plot')\n",
      "└── Node('/1/7', operator='denoise')\n",
      "    └── Node('/1/7/8', ly=[20, 20, 20], operator='split_models', tvt=[0.5, 0.3, 0.2])\n",
      "        └── Node('/1/7/8/9', mt=[4, 2, 1, 1], operator='create_train')\n",
      "            └── Node('/1/7/8/9/10', n=3000, operator='forecast', pick='valid')\n",
      "                └── Node('/1/7/8/9/10/11', operator='plot')\n"
     ]
    }
   ],
   "source": [
    "copy = test.replicate_subtree(2)\n",
    "\n",
    "test.add_subtree(copy, 1)\n",
    "\n",
    "test.print_tree(test.root)"
   ]
  },
  {
   "cell_type": "code",
   "execution_count": 4,
   "metadata": {},
   "outputs": [
    {
     "name": "stdout",
     "output_type": "stream",
     "text": [
      "Node('/1', data=                 Datetime  Station Pressure [mBar]\n",
      "0     2005-11-01 00:00:00                   817.46\n",
      "1     2005-11-01 00:01:00                   817.41\n",
      "2     2005-11-01 00:02:00                   817.29\n",
      "3     2005-11-01 00:03:00                   817.17\n",
      "4     2005-11-01 00:04:00                   817.18\n",
      "...                   ...                      ...\n",
      "44635 2005-12-01 23:55:00                   804.12\n",
      "44636 2005-12-01 23:56:00                   804.21\n",
      "44637 2005-12-01 23:57:00                   804.17\n",
      "44638 2005-12-01 23:58:00                   804.22\n",
      "44639 2005-12-01 23:59:00                   804.26\n",
      "\n",
      "[44640 rows x 2 columns])\n",
      "├── Node('/1/2', operator='denoise')\n",
      "│   └── Node('/1/2/3', ly=[20, 20, 20], operator='split_models', tvt=[0.5, 0.3, 0.2])\n",
      "│       └── Node('/1/2/3/4', mt=[4, 2, 1, 1], operator='create_train')\n",
      "│           └── Node('/1/2/3/4/5', n=3000, operator='forecast', pick='valid')\n",
      "│               └── Node('/1/2/3/4/5/6', operator='plot')\n",
      "└── Node('/1/7', operator='logarithm')\n",
      "    └── Node('/1/7/8', ly=[20, 20, 20], operator='split_models', tvt=[0.5, 0.3, 0.2])\n",
      "        └── Node('/1/7/8/9', mt=[4, 2, 1, 1], operator='create_train')\n",
      "            └── Node('/1/7/8/9/10', n=3000, operator='forecast', pick='valid')\n",
      "                └── Node('/1/7/8/9/10/11', operator='plot')\n"
     ]
    }
   ],
   "source": [
    "test.replace_process(7, 'logarithm')\n",
    "test.print_tree(test.root)"
   ]
  },
  {
   "cell_type": "code",
   "execution_count": 5,
   "metadata": {},
   "outputs": [
    {
     "data": {
      "image/png": "[encoded data removed]",
      "text/plain": [
       "<Figure size 432x288 with 1 Axes>"
      ]
     },
     "metadata": {
      "needs_background": "light"
     },
     "output_type": "display_data"
    }
   ],
   "source": [
    "test.exec_pipeline(11)"
   ]
  },
  {
   "cell_type": "code",
   "execution_count": null,
   "metadata": {},
   "outputs": [],
   "source": []
  }
 ],
 "metadata": {
  "kernelspec": {
   "display_name": "Python 3",
   "language": "python",
   "name": "python3"
  },
  "language_info": {
   "codemirror_mode": {
    "name": "ipython",
    "version": 3
   },
   "file_extension": ".py",
   "mimetype": "text/x-python",
   "name": "python",
   "nbconvert_exporter": "python",
   "pygments_lexer": "ipython3",
   "version": "3.8.5"
  }
 },
 "nbformat": 4,
 "nbformat_minor": 4
}
